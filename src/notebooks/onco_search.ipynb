{
 "cells": [
  {
   "cell_type": "code",
   "execution_count": null,
   "id": "85d89f8c",
   "metadata": {},
   "outputs": [],
   "source": [
    "from dotenv import load_dotenv\n",
    "\n",
    "from fyp25_literature_agents import analyze_gene_literature\n",
    "\n",
    "load_dotenv(override=True)\n",
    "print(\"✓ Ready to go!\")\n",
    "\n",
    "def summary_output(results):\n",
    "    # Show summary\n",
    "    summary = results[\"summary\"]\n",
    "    print(\"\\n📊 Summary:\")\n",
    "    print(f\"  Total cancer classifications: {summary['total_cancer_classifications']}\")\n",
    "    print(f\"  Unique cancer types: {summary['unique_cancer_types']}\")\n",
    "    print(f\"  Cancer types found: {', '.join(summary['cancer_types_found'][:5])}\")\n",
    "\n",
    "    role_dist = summary[\"role_distribution\"]\n",
    "    print(\"\\n  Role distribution:\")\n",
    "    print(f\"    Tumor suppressor: {role_dist['tumor_suppressor']}\")\n",
    "    print(f\"    Oncogene: {role_dist['oncogene']}\")\n",
    "    print(f\"    Both: {role_dist['both']}\")\n",
    "    print(f\"    Unclear: {role_dist['unclear']}\")\n",
    "\n",
    "    quality = summary[\"quality_metrics\"]\n",
    "    print(\"\\n  Quality metrics:\")\n",
    "    print(f\"    High confidence: {quality['high_confidence_percentage']}%\")\n",
    "    print(f\"    Needs full text: {quality['needs_full_text_percentage']}%\")"
   ]
  },
  {
   "cell_type": "code",
   "execution_count": null,
   "id": "1a9484f1",
   "metadata": {},
   "outputs": [],
   "source": [
    "gene = \"PPP2R2A\"\n",
    "search_query = f\"{gene} OR B55α B55alpha OR B55alpha\"\n",
    "\n",
    "results = await analyze_gene_literature(\n",
    "    gene=\"PPP2R2A\",\n",
    "    search_query=search_query,\n",
    "    max_results=5,  # Start small\n",
    ")\n",
    "\n",
    "print(f\"✓ Analyzed {results['analyzed_articles']} articles\")\n",
    "print(f\"✓ Results saved to: {results['output_file']}\")\n",
    "summary_output(results)\n"
   ]
  },
  {
   "cell_type": "code",
   "execution_count": null,
   "id": "175dea67",
   "metadata": {},
   "outputs": [],
   "source": []
  }
 ],
 "metadata": {
  "kernelspec": {
   "display_name": ".venv",
   "language": "python",
   "name": "python3"
  },
  "language_info": {
   "codemirror_mode": {
    "name": "ipython",
    "version": 3
   },
   "file_extension": ".py",
   "mimetype": "text/x-python",
   "name": "python",
   "nbconvert_exporter": "python",
   "pygments_lexer": "ipython3",
   "version": "3.12.10"
  }
 },
 "nbformat": 4,
 "nbformat_minor": 5
}
