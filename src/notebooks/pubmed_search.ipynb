{
 "cells": [
  {
   "cell_type": "code",
   "execution_count": null,
   "id": "d02d93f5",
   "metadata": {},
   "outputs": [],
   "source": [
    "from fyp25_literature_agents import PubMedSearchConfig, PubMedSearcher\n"
   ]
  },
  {
   "cell_type": "code",
   "execution_count": null,
   "id": "2c85e63e",
   "metadata": {},
   "outputs": [],
   "source": [
    "config = PubMedSearchConfig(\n",
    "    batch_size=50,  # How many articles to fetch at once\n",
    ")\n",
    "\n",
    "# Create the searcher\n",
    "searcher = PubMedSearcher(config)\n",
    "\n",
    "print(\"✓ PubMed searcher configured!\")\n",
    "print(f\"  Email: {config.email}\")\n",
    "print(f\"  Max results: {config.retmax}\")\n"
   ]
  },
  {
   "cell_type": "code",
   "execution_count": null,
   "id": "a574aab4",
   "metadata": {},
   "outputs": [],
   "source": [
    "query = \"PPP2CA OR PP2A 2015:2025[PDAT]\"\n",
    "articles = searcher.search_and_fetch(query)\n",
    "\n",
    "print(f\"Found {len(articles)} articles!\\n\")\n"
   ]
  },
  {
   "cell_type": "code",
   "execution_count": null,
   "id": "69488149",
   "metadata": {},
   "outputs": [],
   "source": []
  }
 ],
 "metadata": {
  "kernelspec": {
   "display_name": ".venv",
   "language": "python",
   "name": "python3"
  },
  "language_info": {
   "codemirror_mode": {
    "name": "ipython",
    "version": 3
   },
   "file_extension": ".py",
   "mimetype": "text/x-python",
   "name": "python",
   "nbconvert_exporter": "python",
   "pygments_lexer": "ipython3",
   "version": "3.12.10"
  }
 },
 "nbformat": 4,
 "nbformat_minor": 5
}
